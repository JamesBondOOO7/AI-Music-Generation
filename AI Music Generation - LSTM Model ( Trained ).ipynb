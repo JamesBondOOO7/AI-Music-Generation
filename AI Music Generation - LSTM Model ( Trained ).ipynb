{
 "cells": [
  {
   "cell_type": "code",
   "execution_count": 1,
   "metadata": {
    "execution": {
     "iopub.execute_input": "2021-01-03T21:00:35.981921Z",
     "iopub.status.busy": "2021-01-03T21:00:35.981097Z",
     "iopub.status.idle": "2021-01-03T21:00:35.984092Z",
     "shell.execute_reply": "2021-01-03T21:00:35.983450Z"
    },
    "papermill": {
     "duration": 0.02531,
     "end_time": "2021-01-03T21:00:35.984193",
     "exception": false,
     "start_time": "2021-01-03T21:00:35.958883",
     "status": "completed"
    },
    "tags": []
   },
   "outputs": [],
   "source": [
    "import pickle\n",
    "import numpy as np"
   ]
  },
  {
   "cell_type": "code",
   "execution_count": 2,
   "metadata": {
    "execution": {
     "iopub.execute_input": "2021-01-03T21:00:36.020580Z",
     "iopub.status.busy": "2021-01-03T21:00:36.020000Z",
     "iopub.status.idle": "2021-01-03T21:00:36.044979Z",
     "shell.execute_reply": "2021-01-03T21:00:36.043810Z"
    },
    "papermill": {
     "duration": 0.044432,
     "end_time": "2021-01-03T21:00:36.045091",
     "exception": false,
     "start_time": "2021-01-03T21:00:36.000659",
     "status": "completed"
    },
    "tags": []
   },
   "outputs": [],
   "source": [
    "with open(\"../input/midi-processed-file/notes\", \"rb\") as f:\n",
    "    notes = pickle.load(f)"
   ]
  },
  {
   "cell_type": "code",
   "execution_count": 3,
   "metadata": {
    "execution": {
     "iopub.execute_input": "2021-01-03T21:00:36.084406Z",
     "iopub.status.busy": "2021-01-03T21:00:36.083720Z",
     "iopub.status.idle": "2021-01-03T21:00:36.086877Z",
     "shell.execute_reply": "2021-01-03T21:00:36.086251Z"
    },
    "papermill": {
     "duration": 0.025999,
     "end_time": "2021-01-03T21:00:36.086982",
     "exception": false,
     "start_time": "2021-01-03T21:00:36.060983",
     "status": "completed"
    },
    "tags": []
   },
   "outputs": [],
   "source": [
    "n_vocab = len(set(notes))"
   ]
  },
  {
   "cell_type": "code",
   "execution_count": 4,
   "metadata": {
    "execution": {
     "iopub.execute_input": "2021-01-03T21:00:36.123444Z",
     "iopub.status.busy": "2021-01-03T21:00:36.122565Z",
     "iopub.status.idle": "2021-01-03T21:00:36.126898Z",
     "shell.execute_reply": "2021-01-03T21:00:36.127560Z"
    },
    "papermill": {
     "duration": 0.024716,
     "end_time": "2021-01-03T21:00:36.127715",
     "exception": false,
     "start_time": "2021-01-03T21:00:36.102999",
     "status": "completed"
    },
    "tags": []
   },
   "outputs": [
    {
     "name": "stdout",
     "output_type": "stream",
     "text": [
      "Total notes : 62377\n",
      "Unique notes : 374\n"
     ]
    }
   ],
   "source": [
    "print(\"Total notes :\", len(notes))\n",
    "print(\"Unique notes :\" ,n_vocab)"
   ]
  },
  {
   "cell_type": "markdown",
   "metadata": {
    "papermill": {
     "duration": 0.016784,
     "end_time": "2021-01-03T21:00:36.161778",
     "exception": false,
     "start_time": "2021-01-03T21:00:36.144994",
     "status": "completed"
    },
    "tags": []
   },
   "source": [
    "## Preparing Sequential Data for LSTM Model"
   ]
  },
  {
   "cell_type": "code",
   "execution_count": 5,
   "metadata": {
    "execution": {
     "iopub.execute_input": "2021-01-03T21:00:36.198483Z",
     "iopub.status.busy": "2021-01-03T21:00:36.197771Z",
     "iopub.status.idle": "2021-01-03T21:00:36.200308Z",
     "shell.execute_reply": "2021-01-03T21:00:36.200736Z"
    },
    "papermill": {
     "duration": 0.022551,
     "end_time": "2021-01-03T21:00:36.200844",
     "exception": false,
     "start_time": "2021-01-03T21:00:36.178293",
     "status": "completed"
    },
    "tags": []
   },
   "outputs": [],
   "source": [
    "# Chosing the sequence length\n",
    "# i.e we will give 100 elements to the LSTM input for consideration/prediction\n",
    "sequence_length = 100\n"
   ]
  },
  {
   "cell_type": "code",
   "execution_count": 6,
   "metadata": {
    "execution": {
     "iopub.execute_input": "2021-01-03T21:00:36.240039Z",
     "iopub.status.busy": "2021-01-03T21:00:36.239266Z",
     "iopub.status.idle": "2021-01-03T21:00:36.241596Z",
     "shell.execute_reply": "2021-01-03T21:00:36.242079Z"
    },
    "papermill": {
     "duration": 0.024513,
     "end_time": "2021-01-03T21:00:36.242192",
     "exception": false,
     "start_time": "2021-01-03T21:00:36.217679",
     "status": "completed"
    },
    "tags": []
   },
   "outputs": [],
   "source": [
    "# CLASSES\n",
    "pitchnames = sorted(set(notes))"
   ]
  },
  {
   "cell_type": "code",
   "execution_count": 7,
   "metadata": {
    "execution": {
     "iopub.execute_input": "2021-01-03T21:00:36.281444Z",
     "iopub.status.busy": "2021-01-03T21:00:36.280719Z",
     "iopub.status.idle": "2021-01-03T21:00:36.283582Z",
     "shell.execute_reply": "2021-01-03T21:00:36.282996Z"
    },
    "papermill": {
     "duration": 0.024341,
     "end_time": "2021-01-03T21:00:36.283669",
     "exception": false,
     "start_time": "2021-01-03T21:00:36.259328",
     "status": "completed"
    },
    "tags": []
   },
   "outputs": [],
   "source": [
    "# Converting this String Data into Numbers\n",
    "# Therefore, we will create a mapping b/w elements\n",
    "\n",
    "ele_to_int = dict( (ele, num) for num, ele in enumerate(pitchnames) )\n",
    "int_to_ele = dict( (num, ele) for num, ele in enumerate(pitchnames) )"
   ]
  },
  {
   "cell_type": "code",
   "execution_count": 8,
   "metadata": {
    "execution": {
     "iopub.execute_input": "2021-01-03T21:00:36.321817Z",
     "iopub.status.busy": "2021-01-03T21:00:36.321120Z",
     "iopub.status.idle": "2021-01-03T21:00:36.324319Z",
     "shell.execute_reply": "2021-01-03T21:00:36.323811Z"
    },
    "papermill": {
     "duration": 0.023473,
     "end_time": "2021-01-03T21:00:36.324407",
     "exception": false,
     "start_time": "2021-01-03T21:00:36.300934",
     "status": "completed"
    },
    "tags": []
   },
   "outputs": [],
   "source": [
    "network_input = []\n",
    "network_output = []"
   ]
  },
  {
   "cell_type": "code",
   "execution_count": 9,
   "metadata": {
    "execution": {
     "iopub.execute_input": "2021-01-03T21:00:36.387035Z",
     "iopub.status.busy": "2021-01-03T21:00:36.366518Z",
     "iopub.status.idle": "2021-01-03T21:00:37.146912Z",
     "shell.execute_reply": "2021-01-03T21:00:37.146393Z"
    },
    "papermill": {
     "duration": 0.805,
     "end_time": "2021-01-03T21:00:37.147037",
     "exception": false,
     "start_time": "2021-01-03T21:00:36.342037",
     "status": "completed"
    },
    "tags": []
   },
   "outputs": [],
   "source": [
    "# AIM :\n",
    "#     Input         :      Output\n",
    "# 1st 100 elements  :  101th element\n",
    "# 2-101 elements    :  102th element\n",
    "# 3-102 elements    :  103th element\n",
    "# and so on...\n",
    "\n",
    "for i in range(len(notes) - sequence_length):\n",
    "    \n",
    "    seq_in = notes[i: i+sequence_length] # Contains 100 values\n",
    "    seq_out = notes[i+sequence_length]\n",
    "    \n",
    "    # These are notes\n",
    "    # But Neural Networks work with Numeric Data\n",
    "    # Converting and Appending them\n",
    "    network_input.append([ ele_to_int[ch] for ch in seq_in])\n",
    "    network_output.append(ele_to_int[seq_out])"
   ]
  },
  {
   "cell_type": "code",
   "execution_count": 10,
   "metadata": {
    "execution": {
     "iopub.execute_input": "2021-01-03T21:00:37.187299Z",
     "iopub.status.busy": "2021-01-03T21:00:37.186530Z",
     "iopub.status.idle": "2021-01-03T21:00:37.190429Z",
     "shell.execute_reply": "2021-01-03T21:00:37.189905Z"
    },
    "papermill": {
     "duration": 0.025676,
     "end_time": "2021-01-03T21:00:37.190525",
     "exception": false,
     "start_time": "2021-01-03T21:00:37.164849",
     "status": "completed"
    },
    "tags": []
   },
   "outputs": [
    {
     "name": "stdout",
     "output_type": "stream",
     "text": [
      "62277\n"
     ]
    }
   ],
   "source": [
    "# Number of exmaples\n",
    "n_patterns = len(network_input)\n",
    "print(n_patterns)"
   ]
  },
  {
   "cell_type": "code",
   "execution_count": 11,
   "metadata": {
    "execution": {
     "iopub.execute_input": "2021-01-03T21:00:38.417394Z",
     "iopub.status.busy": "2021-01-03T21:00:38.392202Z",
     "iopub.status.idle": "2021-01-03T21:00:38.420412Z",
     "shell.execute_reply": "2021-01-03T21:00:38.420902Z"
    },
    "papermill": {
     "duration": 1.212639,
     "end_time": "2021-01-03T21:00:38.421049",
     "exception": false,
     "start_time": "2021-01-03T21:00:37.208410",
     "status": "completed"
    },
    "tags": []
   },
   "outputs": [
    {
     "name": "stdout",
     "output_type": "stream",
     "text": [
      "(62277, 100, 1)\n"
     ]
    }
   ],
   "source": [
    "# Reshaping for efficient training\n",
    "network_input = np.reshape(network_input, (n_patterns, sequence_length, 1))\n",
    "print(network_input.shape)"
   ]
  },
  {
   "cell_type": "code",
   "execution_count": 12,
   "metadata": {
    "execution": {
     "iopub.execute_input": "2021-01-03T21:00:38.462919Z",
     "iopub.status.busy": "2021-01-03T21:00:38.461946Z",
     "iopub.status.idle": "2021-01-03T21:00:38.485199Z",
     "shell.execute_reply": "2021-01-03T21:00:38.484650Z"
    },
    "papermill": {
     "duration": 0.045427,
     "end_time": "2021-01-03T21:00:38.485307",
     "exception": false,
     "start_time": "2021-01-03T21:00:38.439880",
     "status": "completed"
    },
    "tags": []
   },
   "outputs": [],
   "source": [
    "# Normalize the Data\n",
    "# Bring in the range [0-1]\n",
    "normalized_network_input = network_input/float(n_vocab)"
   ]
  },
  {
   "cell_type": "code",
   "execution_count": 13,
   "metadata": {
    "execution": {
     "iopub.execute_input": "2021-01-03T21:00:38.526980Z",
     "iopub.status.busy": "2021-01-03T21:00:38.526290Z",
     "iopub.status.idle": "2021-01-03T21:00:43.362981Z",
     "shell.execute_reply": "2021-01-03T21:00:43.361986Z"
    },
    "papermill": {
     "duration": 4.859144,
     "end_time": "2021-01-03T21:00:43.363122",
     "exception": false,
     "start_time": "2021-01-03T21:00:38.503978",
     "status": "completed"
    },
    "tags": []
   },
   "outputs": [],
   "source": [
    "# Converting the output into one hot encoding\n",
    "from keras.utils import np_utils\n",
    "network_output = np_utils.to_categorical(network_output)"
   ]
  },
  {
   "cell_type": "code",
   "execution_count": 14,
   "metadata": {
    "execution": {
     "iopub.execute_input": "2021-01-03T21:00:43.410459Z",
     "iopub.status.busy": "2021-01-03T21:00:43.408558Z",
     "iopub.status.idle": "2021-01-03T21:00:43.413036Z",
     "shell.execute_reply": "2021-01-03T21:00:43.412519Z"
    },
    "papermill": {
     "duration": 0.030478,
     "end_time": "2021-01-03T21:00:43.413131",
     "exception": false,
     "start_time": "2021-01-03T21:00:43.382653",
     "status": "completed"
    },
    "tags": []
   },
   "outputs": [
    {
     "data": {
      "text/plain": [
       "(62277, 374)"
      ]
     },
     "execution_count": 14,
     "metadata": {},
     "output_type": "execute_result"
    }
   ],
   "source": [
    "network_output.shape"
   ]
  },
  {
   "cell_type": "markdown",
   "metadata": {
    "papermill": {
     "duration": 0.018853,
     "end_time": "2021-01-03T21:00:43.451102",
     "exception": false,
     "start_time": "2021-01-03T21:00:43.432249",
     "status": "completed"
    },
    "tags": []
   },
   "source": [
    "## Preprocessed Data for the Model"
   ]
  },
  {
   "cell_type": "code",
   "execution_count": 15,
   "metadata": {
    "execution": {
     "iopub.execute_input": "2021-01-03T21:00:43.493925Z",
     "iopub.status.busy": "2021-01-03T21:00:43.493163Z",
     "iopub.status.idle": "2021-01-03T21:00:43.497847Z",
     "shell.execute_reply": "2021-01-03T21:00:43.498554Z"
    },
    "papermill": {
     "duration": 0.028521,
     "end_time": "2021-01-03T21:00:43.498702",
     "exception": false,
     "start_time": "2021-01-03T21:00:43.470181",
     "status": "completed"
    },
    "tags": []
   },
   "outputs": [
    {
     "name": "stdout",
     "output_type": "stream",
     "text": [
      "(62277, 100, 1)\n",
      "(62277, 374)\n"
     ]
    }
   ],
   "source": [
    "print(normalized_network_input.shape)\n",
    "print(network_output.shape)"
   ]
  },
  {
   "cell_type": "markdown",
   "metadata": {
    "papermill": {
     "duration": 0.019294,
     "end_time": "2021-01-03T21:00:43.538034",
     "exception": false,
     "start_time": "2021-01-03T21:00:43.518740",
     "status": "completed"
    },
    "tags": []
   },
   "source": [
    "# __Model Preparation__"
   ]
  },
  {
   "cell_type": "code",
   "execution_count": 16,
   "metadata": {
    "execution": {
     "iopub.execute_input": "2021-01-03T21:00:43.581851Z",
     "iopub.status.busy": "2021-01-03T21:00:43.581268Z",
     "iopub.status.idle": "2021-01-03T21:00:43.585388Z",
     "shell.execute_reply": "2021-01-03T21:00:43.584647Z"
    },
    "papermill": {
     "duration": 0.02776,
     "end_time": "2021-01-03T21:00:43.585498",
     "exception": false,
     "start_time": "2021-01-03T21:00:43.557738",
     "status": "completed"
    },
    "tags": []
   },
   "outputs": [],
   "source": [
    "from keras.models import Sequential\n",
    "from keras.layers import *\n",
    "from keras.callbacks import ModelCheckpoint, EarlyStopping"
   ]
  },
  {
   "cell_type": "code",
   "execution_count": 17,
   "metadata": {
    "execution": {
     "iopub.execute_input": "2021-01-03T21:00:43.633671Z",
     "iopub.status.busy": "2021-01-03T21:00:43.633082Z",
     "iopub.status.idle": "2021-01-03T21:00:47.379310Z",
     "shell.execute_reply": "2021-01-03T21:00:47.378703Z"
    },
    "papermill": {
     "duration": 3.774002,
     "end_time": "2021-01-03T21:00:47.379435",
     "exception": false,
     "start_time": "2021-01-03T21:00:43.605433",
     "status": "completed"
    },
    "tags": []
   },
   "outputs": [],
   "source": [
    "# Model Architecture\n",
    "\n",
    "model = Sequential()\n",
    "model.add(LSTM(units=512,\n",
    "              input_shape= (normalized_network_input.shape[1], normalized_network_input.shape[2]),\n",
    "              return_sequences = True))\n",
    "model.add(Dropout(0.3))\n",
    "model.add(LSTM( 512, return_sequences=True))\n",
    "model.add(Dropout(0.3))\n",
    "model.add(LSTM( 512 ))\n",
    "model.add(Dense(256))\n",
    "model.add(Dropout(0.3))\n",
    "model.add(Dense(n_vocab, activation='softmax'))\n"
   ]
  },
  {
   "cell_type": "code",
   "execution_count": 18,
   "metadata": {
    "execution": {
     "iopub.execute_input": "2021-01-03T21:00:47.432002Z",
     "iopub.status.busy": "2021-01-03T21:00:47.431052Z",
     "iopub.status.idle": "2021-01-03T21:00:47.437690Z",
     "shell.execute_reply": "2021-01-03T21:00:47.437066Z"
    },
    "papermill": {
     "duration": 0.037618,
     "end_time": "2021-01-03T21:00:47.437803",
     "exception": false,
     "start_time": "2021-01-03T21:00:47.400185",
     "status": "completed"
    },
    "tags": []
   },
   "outputs": [],
   "source": [
    "model.compile(loss='categorical_crossentropy', optimizer='adam')"
   ]
  },
  {
   "cell_type": "code",
   "execution_count": 19,
   "metadata": {
    "execution": {
     "iopub.execute_input": "2021-01-03T21:00:47.487566Z",
     "iopub.status.busy": "2021-01-03T21:00:47.482127Z",
     "iopub.status.idle": "2021-01-03T21:00:47.492969Z",
     "shell.execute_reply": "2021-01-03T21:00:47.492473Z"
    },
    "papermill": {
     "duration": 0.035208,
     "end_time": "2021-01-03T21:00:47.493079",
     "exception": false,
     "start_time": "2021-01-03T21:00:47.457871",
     "status": "completed"
    },
    "tags": []
   },
   "outputs": [
    {
     "name": "stdout",
     "output_type": "stream",
     "text": [
      "Model: \"sequential\"\n",
      "_________________________________________________________________\n",
      "Layer (type)                 Output Shape              Param #   \n",
      "=================================================================\n",
      "lstm (LSTM)                  (None, 100, 512)          1052672   \n",
      "_________________________________________________________________\n",
      "dropout (Dropout)            (None, 100, 512)          0         \n",
      "_________________________________________________________________\n",
      "lstm_1 (LSTM)                (None, 100, 512)          2099200   \n",
      "_________________________________________________________________\n",
      "dropout_1 (Dropout)          (None, 100, 512)          0         \n",
      "_________________________________________________________________\n",
      "lstm_2 (LSTM)                (None, 512)               2099200   \n",
      "_________________________________________________________________\n",
      "dense (Dense)                (None, 256)               131328    \n",
      "_________________________________________________________________\n",
      "dropout_2 (Dropout)          (None, 256)               0         \n",
      "_________________________________________________________________\n",
      "dense_1 (Dense)              (None, 374)               96118     \n",
      "=================================================================\n",
      "Total params: 5,478,518\n",
      "Trainable params: 5,478,518\n",
      "Non-trainable params: 0\n",
      "_________________________________________________________________\n"
     ]
    }
   ],
   "source": [
    "model.summary()"
   ]
  },
  {
   "cell_type": "code",
   "execution_count": 20,
   "metadata": {
    "execution": {
     "iopub.execute_input": "2021-01-03T21:00:47.538311Z",
     "iopub.status.busy": "2021-01-03T21:00:47.537673Z",
     "iopub.status.idle": "2021-01-03T21:00:47.541730Z",
     "shell.execute_reply": "2021-01-03T21:00:47.541051Z"
    },
    "papermill": {
     "duration": 0.028425,
     "end_time": "2021-01-03T21:00:47.541827",
     "exception": false,
     "start_time": "2021-01-03T21:00:47.513402",
     "status": "completed"
    },
    "tags": []
   },
   "outputs": [],
   "source": [
    "checkpoint = ModelCheckpoint('trained_model_gpu.hdf5', monitor='loss', save_best_only=True, mode='min', verbose=0)"
   ]
  },
  {
   "cell_type": "code",
   "execution_count": 21,
   "metadata": {
    "execution": {
     "iopub.execute_input": "2021-01-03T21:00:47.588424Z",
     "iopub.status.busy": "2021-01-03T21:00:47.587746Z",
     "iopub.status.idle": "2021-01-03T22:47:29.723169Z",
     "shell.execute_reply": "2021-01-03T22:47:29.722392Z"
    },
    "papermill": {
     "duration": 6402.160966,
     "end_time": "2021-01-03T22:47:29.723297",
     "exception": false,
     "start_time": "2021-01-03T21:00:47.562331",
     "status": "completed"
    },
    "tags": []
   },
   "outputs": [
    {
     "name": "stdout",
     "output_type": "stream",
     "text": [
      "Epoch 1/100\n",
      "974/974 [==============================] - 64s 66ms/step - loss: 4.7907\n",
      "Epoch 2/100\n",
      "974/974 [==============================] - 64s 66ms/step - loss: 4.7459\n",
      "Epoch 3/100\n",
      "974/974 [==============================] - 65s 66ms/step - loss: 4.7409\n",
      "Epoch 4/100\n",
      "974/974 [==============================] - 64s 66ms/step - loss: 4.7399\n",
      "Epoch 5/100\n",
      "974/974 [==============================] - 65s 66ms/step - loss: 4.7376\n",
      "Epoch 6/100\n",
      "974/974 [==============================] - 65s 66ms/step - loss: 4.7374\n",
      "Epoch 7/100\n",
      "974/974 [==============================] - 64s 66ms/step - loss: 4.7364\n",
      "Epoch 8/100\n",
      "974/974 [==============================] - 65s 66ms/step - loss: 4.7351\n",
      "Epoch 9/100\n",
      "974/974 [==============================] - 64s 66ms/step - loss: 4.7344\n",
      "Epoch 10/100\n",
      "974/974 [==============================] - 64s 66ms/step - loss: 4.7342\n",
      "Epoch 11/100\n",
      "974/974 [==============================] - 64s 66ms/step - loss: 4.7330\n",
      "Epoch 12/100\n",
      "974/974 [==============================] - 64s 66ms/step - loss: 4.7333\n",
      "Epoch 13/100\n",
      "974/974 [==============================] - 64s 66ms/step - loss: 4.7319\n",
      "Epoch 14/100\n",
      "974/974 [==============================] - 64s 66ms/step - loss: 4.7327\n",
      "Epoch 15/100\n",
      "974/974 [==============================] - 65s 66ms/step - loss: 4.7322\n",
      "Epoch 16/100\n",
      "974/974 [==============================] - 64s 66ms/step - loss: 4.7322\n",
      "Epoch 17/100\n",
      "974/974 [==============================] - 64s 66ms/step - loss: 4.7318\n",
      "Epoch 18/100\n",
      "974/974 [==============================] - 64s 66ms/step - loss: 4.7309\n",
      "Epoch 19/100\n",
      "974/974 [==============================] - 64s 66ms/step - loss: 4.7314\n",
      "Epoch 20/100\n",
      "974/974 [==============================] - 64s 66ms/step - loss: 4.7315\n",
      "Epoch 21/100\n",
      "974/974 [==============================] - 64s 65ms/step - loss: 4.7306\n",
      "Epoch 22/100\n",
      "974/974 [==============================] - 64s 66ms/step - loss: 4.7308\n",
      "Epoch 23/100\n",
      "974/974 [==============================] - 64s 65ms/step - loss: 4.7301\n",
      "Epoch 24/100\n",
      "974/974 [==============================] - 65s 66ms/step - loss: 4.7307\n",
      "Epoch 25/100\n",
      "974/974 [==============================] - 64s 66ms/step - loss: 4.7304\n",
      "Epoch 26/100\n",
      "974/974 [==============================] - 64s 66ms/step - loss: 4.7301\n",
      "Epoch 27/100\n",
      "974/974 [==============================] - 64s 66ms/step - loss: 4.7296\n",
      "Epoch 28/100\n",
      "974/974 [==============================] - 64s 66ms/step - loss: 4.7294\n",
      "Epoch 29/100\n",
      "974/974 [==============================] - 64s 65ms/step - loss: 4.7297\n",
      "Epoch 30/100\n",
      "974/974 [==============================] - 64s 66ms/step - loss: 4.7297\n",
      "Epoch 31/100\n",
      "974/974 [==============================] - 64s 66ms/step - loss: 4.7301\n",
      "Epoch 32/100\n",
      "974/974 [==============================] - 64s 65ms/step - loss: 4.7297\n",
      "Epoch 33/100\n",
      "974/974 [==============================] - 64s 66ms/step - loss: 4.7296\n",
      "Epoch 34/100\n",
      "974/974 [==============================] - 64s 66ms/step - loss: 4.7291\n",
      "Epoch 35/100\n",
      "974/974 [==============================] - 64s 65ms/step - loss: 4.7291\n",
      "Epoch 36/100\n",
      "974/974 [==============================] - 64s 65ms/step - loss: 4.7295\n",
      "Epoch 37/100\n",
      "974/974 [==============================] - 64s 65ms/step - loss: 4.7296\n",
      "Epoch 38/100\n",
      "974/974 [==============================] - 64s 66ms/step - loss: 4.7286\n",
      "Epoch 39/100\n",
      "974/974 [==============================] - 64s 66ms/step - loss: 4.7287\n",
      "Epoch 40/100\n",
      "974/974 [==============================] - 64s 66ms/step - loss: 4.7282\n",
      "Epoch 41/100\n",
      "974/974 [==============================] - 64s 66ms/step - loss: 4.7284\n",
      "Epoch 42/100\n",
      "974/974 [==============================] - 64s 66ms/step - loss: 4.7293\n",
      "Epoch 43/100\n",
      "974/974 [==============================] - 64s 65ms/step - loss: 4.7281\n",
      "Epoch 44/100\n",
      "974/974 [==============================] - 64s 65ms/step - loss: 4.7284\n",
      "Epoch 45/100\n",
      "974/974 [==============================] - 64s 65ms/step - loss: 4.7285\n",
      "Epoch 46/100\n",
      "974/974 [==============================] - 64s 66ms/step - loss: 4.7287\n",
      "Epoch 47/100\n",
      "974/974 [==============================] - 64s 65ms/step - loss: 4.7293\n",
      "Epoch 48/100\n",
      "974/974 [==============================] - 64s 66ms/step - loss: 4.7290\n",
      "Epoch 49/100\n",
      "974/974 [==============================] - 64s 66ms/step - loss: 4.7290\n",
      "Epoch 50/100\n",
      "974/974 [==============================] - 64s 65ms/step - loss: 4.7282\n",
      "Epoch 51/100\n",
      "974/974 [==============================] - 64s 66ms/step - loss: 4.7287\n",
      "Epoch 52/100\n",
      "974/974 [==============================] - 64s 66ms/step - loss: 4.7285\n",
      "Epoch 53/100\n",
      "974/974 [==============================] - 64s 66ms/step - loss: 4.7293\n",
      "Epoch 54/100\n",
      "974/974 [==============================] - 64s 66ms/step - loss: 4.7283\n",
      "Epoch 55/100\n",
      "974/974 [==============================] - 64s 66ms/step - loss: 4.7281\n",
      "Epoch 56/100\n",
      "974/974 [==============================] - 64s 66ms/step - loss: 4.7281\n",
      "Epoch 57/100\n",
      "974/974 [==============================] - 64s 65ms/step - loss: 4.7280\n",
      "Epoch 58/100\n",
      "974/974 [==============================] - 63s 65ms/step - loss: 4.7280\n",
      "Epoch 59/100\n",
      "974/974 [==============================] - 64s 66ms/step - loss: 4.7283\n",
      "Epoch 60/100\n",
      "974/974 [==============================] - 64s 66ms/step - loss: 4.7286\n",
      "Epoch 61/100\n",
      "974/974 [==============================] - 64s 65ms/step - loss: 4.7285\n",
      "Epoch 62/100\n",
      "974/974 [==============================] - 64s 65ms/step - loss: 4.7281\n",
      "Epoch 63/100\n",
      "974/974 [==============================] - 64s 66ms/step - loss: 4.7273\n",
      "Epoch 64/100\n",
      "974/974 [==============================] - 64s 66ms/step - loss: 4.7271\n",
      "Epoch 65/100\n",
      "974/974 [==============================] - 64s 66ms/step - loss: 4.7270\n",
      "Epoch 66/100\n",
      "974/974 [==============================] - 64s 65ms/step - loss: 4.7270\n",
      "Epoch 67/100\n",
      "974/974 [==============================] - 64s 66ms/step - loss: 4.7268\n",
      "Epoch 68/100\n",
      "974/974 [==============================] - 64s 66ms/step - loss: 4.7272\n",
      "Epoch 69/100\n",
      "974/974 [==============================] - 64s 65ms/step - loss: 4.7267\n",
      "Epoch 70/100\n",
      "974/974 [==============================] - 64s 65ms/step - loss: 4.7273\n",
      "Epoch 71/100\n",
      "974/974 [==============================] - 64s 65ms/step - loss: 4.7269\n",
      "Epoch 72/100\n",
      "974/974 [==============================] - 64s 66ms/step - loss: 4.7262\n",
      "Epoch 73/100\n",
      "974/974 [==============================] - 64s 66ms/step - loss: 4.7260\n",
      "Epoch 74/100\n",
      "974/974 [==============================] - 64s 66ms/step - loss: 4.7254\n",
      "Epoch 75/100\n",
      "974/974 [==============================] - 63s 65ms/step - loss: 4.7257\n",
      "Epoch 76/100\n",
      "974/974 [==============================] - 64s 66ms/step - loss: 4.7257\n",
      "Epoch 77/100\n",
      "974/974 [==============================] - 64s 66ms/step - loss: 4.7257\n",
      "Epoch 78/100\n",
      "974/974 [==============================] - 64s 65ms/step - loss: 4.7260\n",
      "Epoch 79/100\n",
      "974/974 [==============================] - 64s 66ms/step - loss: 4.7257\n",
      "Epoch 80/100\n",
      "974/974 [==============================] - 64s 66ms/step - loss: 4.7258\n",
      "Epoch 81/100\n",
      "974/974 [==============================] - 64s 66ms/step - loss: 4.7257\n",
      "Epoch 82/100\n",
      "974/974 [==============================] - 64s 65ms/step - loss: 4.7260\n",
      "Epoch 83/100\n",
      "974/974 [==============================] - 64s 65ms/step - loss: 4.7255\n",
      "Epoch 84/100\n",
      "974/974 [==============================] - 64s 66ms/step - loss: 4.7257\n",
      "Epoch 85/100\n",
      "974/974 [==============================] - 64s 65ms/step - loss: 4.7250\n",
      "Epoch 86/100\n",
      "974/974 [==============================] - 64s 65ms/step - loss: 4.7254\n",
      "Epoch 87/100\n",
      "974/974 [==============================] - 63s 65ms/step - loss: 4.7257\n",
      "Epoch 88/100\n",
      "974/974 [==============================] - 63s 65ms/step - loss: 4.7253\n",
      "Epoch 89/100\n",
      "974/974 [==============================] - 63s 65ms/step - loss: 4.7251\n",
      "Epoch 90/100\n",
      "974/974 [==============================] - 64s 66ms/step - loss: 4.7257\n",
      "Epoch 91/100\n",
      "974/974 [==============================] - 64s 66ms/step - loss: 4.7262\n",
      "Epoch 92/100\n",
      "974/974 [==============================] - 64s 65ms/step - loss: 4.7252\n",
      "Epoch 93/100\n",
      "974/974 [==============================] - 63s 65ms/step - loss: 4.7256\n",
      "Epoch 94/100\n",
      "974/974 [==============================] - 64s 65ms/step - loss: 4.7254\n",
      "Epoch 95/100\n",
      "974/974 [==============================] - 64s 65ms/step - loss: 4.7252\n",
      "Epoch 96/100\n",
      "974/974 [==============================] - 64s 66ms/step - loss: 4.7258\n",
      "Epoch 97/100\n",
      "974/974 [==============================] - 64s 65ms/step - loss: 4.7255\n",
      "Epoch 98/100\n",
      "974/974 [==============================] - 63s 65ms/step - loss: 4.7262\n",
      "Epoch 99/100\n",
      "974/974 [==============================] - 64s 65ms/step - loss: 4.7258\n",
      "Epoch 100/100\n",
      "974/974 [==============================] - 64s 66ms/step - loss: 4.7260\n"
     ]
    }
   ],
   "source": [
    "model_his = model.fit(normalized_network_input, network_output, epochs=100, batch_size=64, callbacks=[checkpoint])"
   ]
  },
  {
   "cell_type": "code",
   "execution_count": null,
   "metadata": {
    "papermill": {
     "duration": 34.537215,
     "end_time": "2021-01-03T22:48:39.752601",
     "exception": false,
     "start_time": "2021-01-03T22:48:05.215386",
     "status": "completed"
    },
    "tags": []
   },
   "outputs": [],
   "source": []
  }
 ],
 "metadata": {
  "kernelspec": {
   "display_name": "Python 3",
   "language": "python",
   "name": "python3"
  },
  "language_info": {
   "codemirror_mode": {
    "name": "ipython",
    "version": 3
   },
   "file_extension": ".py",
   "mimetype": "text/x-python",
   "name": "python",
   "nbconvert_exporter": "python",
   "pygments_lexer": "ipython3",
   "version": "3.7.6"
  },
  "papermill": {
   "duration": 6525.160198,
   "end_time": "2021-01-03T22:49:17.061877",
   "environment_variables": {},
   "exception": null,
   "input_path": "__notebook__.ipynb",
   "output_path": "__notebook__.ipynb",
   "parameters": {},
   "start_time": "2021-01-03T21:00:31.901679",
   "version": "2.1.0"
  }
 },
 "nbformat": 4,
 "nbformat_minor": 4
}

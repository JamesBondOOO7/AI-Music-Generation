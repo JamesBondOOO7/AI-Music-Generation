{
 "cells": [
  {
   "cell_type": "code",
   "execution_count": 1,
   "metadata": {},
   "outputs": [],
   "source": [
    "from keras.models import load_model"
   ]
  },
  {
   "cell_type": "code",
   "execution_count": 26,
   "metadata": {},
   "outputs": [],
   "source": [
    "model = load_model(\"./trained_model_gpu.hdf5\")"
   ]
  },
  {
   "cell_type": "markdown",
   "metadata": {},
   "source": [
    "## Predictions"
   ]
  },
  {
   "cell_type": "code",
   "execution_count": 3,
   "metadata": {},
   "outputs": [],
   "source": [
    "import pickle\n",
    "with open(\"notes\", \"rb\") as f:\n",
    "    notes = pickle.load(f)"
   ]
  },
  {
   "cell_type": "code",
   "execution_count": 4,
   "metadata": {},
   "outputs": [],
   "source": [
    "pitchnames = sorted(set(notes)) # CLASSES\n",
    "\n",
    "# MAPPING\n",
    "ele_to_int = dict( (ele, num) for num, ele in enumerate(pitchnames) )\n",
    "int_to_ele = dict( (num, ele) for num, ele in enumerate(pitchnames) )"
   ]
  },
  {
   "cell_type": "code",
   "execution_count": 6,
   "metadata": {},
   "outputs": [],
   "source": [
    "# The Training data\n",
    "sequence_length = 100\n",
    "network_input = []\n",
    "n_vocab = len(set(notes))\n",
    "for i in range(len(notes) - sequence_length):\n",
    "    \n",
    "    seq_in = notes[i : i + sequence_length]\n",
    "    network_input.append([ele_to_int[ch] for ch in seq_in])"
   ]
  },
  {
   "cell_type": "markdown",
   "metadata": {},
   "source": [
    "## How to generate music? \n",
    "1. Give any random training point from the training data to the model\n",
    "2. Discard the 1st element from the training point and append the output\n",
    "3. Repeat 1 and 2 till the required length of time"
   ]
  },
  {
   "cell_type": "code",
   "execution_count": 27,
   "metadata": {},
   "outputs": [],
   "source": [
    "import numpy as np\n",
    "\n",
    "# Random input\n",
    "start = np.random.randint(len(network_input) - 1)\n",
    "\n",
    "# Initial Pattern\n",
    "pattern = network_input[start]\n",
    "prediction_output = []\n",
    "\n",
    "# Let's do it for 200 elements\n",
    "for note_index in range(200):\n",
    "    \n",
    "    # (Batch_size X length of the pattern X 1)\n",
    "    prediction_input = np.reshape(pattern, [1, len(pattern), 1])\n",
    "    \n",
    "    # Normalization\n",
    "    prediction_input = prediction_input/float(n_vocab)\n",
    "    \n",
    "    # Prediction : Prob for all classes\n",
    "    prediction = model.predict(prediction_input, verbose=0)\n",
    "    # Class number\n",
    "    idx = np.argmax(prediction)\n",
    "    \n",
    "    # Integer to Note\n",
    "    result = int_to_ele[idx]\n",
    "    prediction_output.append(result)\n",
    "    \n",
    "    # changing the Input Sequence\n",
    "    pattern.append(idx)\n",
    "    pattern = pattern[1:]"
   ]
  },
  {
   "cell_type": "code",
   "execution_count": 28,
   "metadata": {},
   "outputs": [
    {
     "name": "stdout",
     "output_type": "stream",
     "text": [
      "['7+9+0', '7+9+0', 'F1', 'F#7', '9+11+3', '9+11+2+5', 'C#5', 'C#4', 'B4', 'B3', '9+11+3', '9+11+2+5', '9+11', 'C#4', '7+9', '7+9', '3+7+9', '3+7+9', '11+0', '11+0', '1+2', '1+2', '2+7', '2+7', '3+7+9', '1+4+6+9', '6', '6', 'E-4', 'A0', 'D4', 'D5', '9+10+2+4', 'C6', '9+11+0+4', 'D5', '4+8', 'B-5', 'F#6', 'A4', 'F#7', '11+4', 'D5', 'E-4', '9+10+2+4', '9+11+0+4', 'D5', '4+8', 'C6', 'D5', 'F#6', '8+9+2', '11+4', '11+4', '9+10+2+4', '3+7+9', '4+8', '9+11+0+4', 'E-4', 'F#6', 'D5', '11+4', 'C6', '1+4+6+9', '9+10+2+4', '4+8', 'F#6', '11+4', '9+10+2+4', '4+8', 'F#6', '11+4', '9+10+2+4', '4+8', 'F#6', '11+4', 'D3', '9+11', 'C#3', 'F#2', '9+11', '9+1+4', 'E-2', '4+7+10', 'D2', 'E-2', '11+2+4', 'D3', 'E-2', 'E-1', 'C#4', 'B-3', 'D3', 'D2', 'D3', '9+11', '11+2+4', 'F#2', 'D3', '9+11', 'C#3', 'F#2', '9+11', '9+1+4', 'E-2', '4+7+10', 'B-2', 'E-2', '11+2+4+6', 'D3', 'E-2', 'C#3', 'C3', '11+2+4', 'A1', '9+11', '9+10+2+4', '9+10+2+4', '3+7+9', '9+10+2+4', 'E-1', '9+10+2+4', '9+10+2+4', '9+11', '9+10+2+4', 'A3', '9+10+2+4', '9+11', '9+11', 'A1', '8+9+11+1', 'B3', '9+10+2+4', '9+10+2+4', 'C#4', '9+10+2+4', '9+10+2+4', 'C#4', '8+11+2', '9+10+2+3', 'D1', 'D2', '9+10+2+4', 'C#4', '9+10+2+4', 'D2', 'F#6', 'F#7', '9+10+2+5', 'D7', '9+11', 'D7', '9+10+2+5', '9+10+2+4', '9+10+2+3', 'D3', '9+10+2+4', '9+11', '4+8', '9+10+2+4', 'C#4', '8+11+2', 'A2', 'D3', '8+11+2', 'A2', '9+10+2+4', 'D2', '9+11', '9+10+2+5', '9+1+4', 'A3', '9+10+2+4', '9+10+2+5', '9+10+2+4', '9+11', '9+11', '9+11', '9+10+2+4', '3+7+9', '9+10+2+3', '9+11', '9+10+2+4', 'A2', '8+11+2', '9+10+2+4', '9+10+2+4', '8+11+2', '8+9+11+1', '8+11+2', '8+11+2', '8+9+11+1', '8+11+2', '8+9+11+1', '9+10+2+4', '8+9+11+1', '7+10+0+3', '7+10+0+3', 'D1', 'D1']\n"
     ]
    }
   ],
   "source": [
    "print(prediction_output)"
   ]
  },
  {
   "cell_type": "markdown",
   "metadata": {},
   "source": [
    "# Create Midi file"
   ]
  },
  {
   "cell_type": "code",
   "execution_count": 29,
   "metadata": {},
   "outputs": [],
   "source": [
    "from music21 import note, chord, instrument, stream"
   ]
  },
  {
   "cell_type": "code",
   "execution_count": 36,
   "metadata": {},
   "outputs": [
    {
     "name": "stdout",
     "output_type": "stream",
     "text": [
      "F1\n"
     ]
    }
   ],
   "source": [
    "# Note Object\n",
    "print(prediction_output[2])\n",
    "sample_note = note.Note(prediction_output[2])\n",
    "sample_note.offset = 0\n",
    "sample_note.instrument = instrument.Piano()"
   ]
  },
  {
   "cell_type": "code",
   "execution_count": 37,
   "metadata": {},
   "outputs": [
    {
     "data": {
      "text/plain": [
       "<music21.note.Note F>"
      ]
     },
     "execution_count": 37,
     "metadata": {},
     "output_type": "execute_result"
    }
   ],
   "source": [
    "sample_note"
   ]
  },
  {
   "cell_type": "code",
   "execution_count": 38,
   "metadata": {},
   "outputs": [],
   "source": [
    "offset = 0\n",
    "output_notes = []\n",
    "\n",
    "for pattern in prediction_output:\n",
    "    \n",
    "    # if the pattern is a chord\n",
    "    if ('+' in pattern) or pattern.isdigit():\n",
    "        notes_in_chord = pattern.split('+')\n",
    "        # Notes inside a chord\n",
    "        temp_notes = []\n",
    "        for curr_note in notes_in_chord:\n",
    "            \n",
    "            # Create a Note object\n",
    "            new_note = note.Note(int(curr_note))\n",
    "            new_note.storedInstrument = instrument.Piano()\n",
    "            temp_notes.append(new_note)\n",
    "        \n",
    "        # Creating the cord Object\n",
    "        new_chord = chord.Chord(temp_notes)\n",
    "        new_chord.offset = offset\n",
    "        output_notes.append(new_chord)\n",
    "        \n",
    "        \n",
    "    # if the pattern is a note\n",
    "    else:\n",
    "        new_note = note.Note(pattern)\n",
    "        new_note.offset = offset\n",
    "        new_note.instrument = instrument.Piano()\n",
    "        output_notes.append(new_note)\n",
    "        \n",
    "    offset += 0.5 # fixed"
   ]
  },
  {
   "cell_type": "code",
   "execution_count": 39,
   "metadata": {},
   "outputs": [
    {
     "data": {
      "text/plain": [
       "[<music21.chord.Chord G A C>,\n",
       " <music21.chord.Chord G A C>,\n",
       " <music21.note.Note F>,\n",
       " <music21.note.Note F#>,\n",
       " <music21.chord.Chord A B E->,\n",
       " <music21.chord.Chord A B D F>,\n",
       " <music21.note.Note C#>,\n",
       " <music21.note.Note C#>,\n",
       " <music21.note.Note B>,\n",
       " <music21.note.Note B>,\n",
       " <music21.chord.Chord A B E->,\n",
       " <music21.chord.Chord A B D F>,\n",
       " <music21.chord.Chord A B>,\n",
       " <music21.note.Note C#>,\n",
       " <music21.chord.Chord G A>,\n",
       " <music21.chord.Chord G A>,\n",
       " <music21.chord.Chord E- G A>,\n",
       " <music21.chord.Chord E- G A>,\n",
       " <music21.chord.Chord B C>,\n",
       " <music21.chord.Chord B C>,\n",
       " <music21.chord.Chord C# D>,\n",
       " <music21.chord.Chord C# D>,\n",
       " <music21.chord.Chord D G>,\n",
       " <music21.chord.Chord D G>,\n",
       " <music21.chord.Chord E- G A>,\n",
       " <music21.chord.Chord C# E F# A>,\n",
       " <music21.chord.Chord F#>,\n",
       " <music21.chord.Chord F#>,\n",
       " <music21.note.Note E->,\n",
       " <music21.note.Note A>,\n",
       " <music21.note.Note D>,\n",
       " <music21.note.Note D>,\n",
       " <music21.chord.Chord A B- D E>,\n",
       " <music21.note.Note C>,\n",
       " <music21.chord.Chord A B C E>,\n",
       " <music21.note.Note D>,\n",
       " <music21.chord.Chord E G#>,\n",
       " <music21.note.Note B->,\n",
       " <music21.note.Note F#>,\n",
       " <music21.note.Note A>,\n",
       " <music21.note.Note F#>,\n",
       " <music21.chord.Chord B E>,\n",
       " <music21.note.Note D>,\n",
       " <music21.note.Note E->,\n",
       " <music21.chord.Chord A B- D E>,\n",
       " <music21.chord.Chord A B C E>,\n",
       " <music21.note.Note D>,\n",
       " <music21.chord.Chord E G#>,\n",
       " <music21.note.Note C>,\n",
       " <music21.note.Note D>,\n",
       " <music21.note.Note F#>,\n",
       " <music21.chord.Chord G# A D>,\n",
       " <music21.chord.Chord B E>,\n",
       " <music21.chord.Chord B E>,\n",
       " <music21.chord.Chord A B- D E>,\n",
       " <music21.chord.Chord E- G A>,\n",
       " <music21.chord.Chord E G#>,\n",
       " <music21.chord.Chord A B C E>,\n",
       " <music21.note.Note E->,\n",
       " <music21.note.Note F#>,\n",
       " <music21.note.Note D>,\n",
       " <music21.chord.Chord B E>,\n",
       " <music21.note.Note C>,\n",
       " <music21.chord.Chord C# E F# A>,\n",
       " <music21.chord.Chord A B- D E>,\n",
       " <music21.chord.Chord E G#>,\n",
       " <music21.note.Note F#>,\n",
       " <music21.chord.Chord B E>,\n",
       " <music21.chord.Chord A B- D E>,\n",
       " <music21.chord.Chord E G#>,\n",
       " <music21.note.Note F#>,\n",
       " <music21.chord.Chord B E>,\n",
       " <music21.chord.Chord A B- D E>,\n",
       " <music21.chord.Chord E G#>,\n",
       " <music21.note.Note F#>,\n",
       " <music21.chord.Chord B E>,\n",
       " <music21.note.Note D>,\n",
       " <music21.chord.Chord A B>,\n",
       " <music21.note.Note C#>,\n",
       " <music21.note.Note F#>,\n",
       " <music21.chord.Chord A B>,\n",
       " <music21.chord.Chord A C# E>,\n",
       " <music21.note.Note E->,\n",
       " <music21.chord.Chord E G B->,\n",
       " <music21.note.Note D>,\n",
       " <music21.note.Note E->,\n",
       " <music21.chord.Chord B D E>,\n",
       " <music21.note.Note D>,\n",
       " <music21.note.Note E->,\n",
       " <music21.note.Note E->,\n",
       " <music21.note.Note C#>,\n",
       " <music21.note.Note B->,\n",
       " <music21.note.Note D>,\n",
       " <music21.note.Note D>,\n",
       " <music21.note.Note D>,\n",
       " <music21.chord.Chord A B>,\n",
       " <music21.chord.Chord B D E>,\n",
       " <music21.note.Note F#>,\n",
       " <music21.note.Note D>,\n",
       " <music21.chord.Chord A B>,\n",
       " <music21.note.Note C#>,\n",
       " <music21.note.Note F#>,\n",
       " <music21.chord.Chord A B>,\n",
       " <music21.chord.Chord A C# E>,\n",
       " <music21.note.Note E->,\n",
       " <music21.chord.Chord E G B->,\n",
       " <music21.note.Note B->,\n",
       " <music21.note.Note E->,\n",
       " <music21.chord.Chord B D E F#>,\n",
       " <music21.note.Note D>,\n",
       " <music21.note.Note E->,\n",
       " <music21.note.Note C#>,\n",
       " <music21.note.Note C>,\n",
       " <music21.chord.Chord B D E>,\n",
       " <music21.note.Note A>,\n",
       " <music21.chord.Chord A B>,\n",
       " <music21.chord.Chord A B- D E>,\n",
       " <music21.chord.Chord A B- D E>,\n",
       " <music21.chord.Chord E- G A>,\n",
       " <music21.chord.Chord A B- D E>,\n",
       " <music21.note.Note E->,\n",
       " <music21.chord.Chord A B- D E>,\n",
       " <music21.chord.Chord A B- D E>,\n",
       " <music21.chord.Chord A B>,\n",
       " <music21.chord.Chord A B- D E>,\n",
       " <music21.note.Note A>,\n",
       " <music21.chord.Chord A B- D E>,\n",
       " <music21.chord.Chord A B>,\n",
       " <music21.chord.Chord A B>,\n",
       " <music21.note.Note A>,\n",
       " <music21.chord.Chord G# A B C#>,\n",
       " <music21.note.Note B>,\n",
       " <music21.chord.Chord A B- D E>,\n",
       " <music21.chord.Chord A B- D E>,\n",
       " <music21.note.Note C#>,\n",
       " <music21.chord.Chord A B- D E>,\n",
       " <music21.chord.Chord A B- D E>,\n",
       " <music21.note.Note C#>,\n",
       " <music21.chord.Chord G# B D>,\n",
       " <music21.chord.Chord A B- D E->,\n",
       " <music21.note.Note D>,\n",
       " <music21.note.Note D>,\n",
       " <music21.chord.Chord A B- D E>,\n",
       " <music21.note.Note C#>,\n",
       " <music21.chord.Chord A B- D E>,\n",
       " <music21.note.Note D>,\n",
       " <music21.note.Note F#>,\n",
       " <music21.note.Note F#>,\n",
       " <music21.chord.Chord A B- D F>,\n",
       " <music21.note.Note D>,\n",
       " <music21.chord.Chord A B>,\n",
       " <music21.note.Note D>,\n",
       " <music21.chord.Chord A B- D F>,\n",
       " <music21.chord.Chord A B- D E>,\n",
       " <music21.chord.Chord A B- D E->,\n",
       " <music21.note.Note D>,\n",
       " <music21.chord.Chord A B- D E>,\n",
       " <music21.chord.Chord A B>,\n",
       " <music21.chord.Chord E G#>,\n",
       " <music21.chord.Chord A B- D E>,\n",
       " <music21.note.Note C#>,\n",
       " <music21.chord.Chord G# B D>,\n",
       " <music21.note.Note A>,\n",
       " <music21.note.Note D>,\n",
       " <music21.chord.Chord G# B D>,\n",
       " <music21.note.Note A>,\n",
       " <music21.chord.Chord A B- D E>,\n",
       " <music21.note.Note D>,\n",
       " <music21.chord.Chord A B>,\n",
       " <music21.chord.Chord A B- D F>,\n",
       " <music21.chord.Chord A C# E>,\n",
       " <music21.note.Note A>,\n",
       " <music21.chord.Chord A B- D E>,\n",
       " <music21.chord.Chord A B- D F>,\n",
       " <music21.chord.Chord A B- D E>,\n",
       " <music21.chord.Chord A B>,\n",
       " <music21.chord.Chord A B>,\n",
       " <music21.chord.Chord A B>,\n",
       " <music21.chord.Chord A B- D E>,\n",
       " <music21.chord.Chord E- G A>,\n",
       " <music21.chord.Chord A B- D E->,\n",
       " <music21.chord.Chord A B>,\n",
       " <music21.chord.Chord A B- D E>,\n",
       " <music21.note.Note A>,\n",
       " <music21.chord.Chord G# B D>,\n",
       " <music21.chord.Chord A B- D E>,\n",
       " <music21.chord.Chord A B- D E>,\n",
       " <music21.chord.Chord G# B D>,\n",
       " <music21.chord.Chord G# A B C#>,\n",
       " <music21.chord.Chord G# B D>,\n",
       " <music21.chord.Chord G# B D>,\n",
       " <music21.chord.Chord G# A B C#>,\n",
       " <music21.chord.Chord G# B D>,\n",
       " <music21.chord.Chord G# A B C#>,\n",
       " <music21.chord.Chord A B- D E>,\n",
       " <music21.chord.Chord G# A B C#>,\n",
       " <music21.chord.Chord G B- C E->,\n",
       " <music21.chord.Chord G B- C E->,\n",
       " <music21.note.Note D>,\n",
       " <music21.note.Note D>]"
      ]
     },
     "execution_count": 39,
     "metadata": {},
     "output_type": "execute_result"
    }
   ],
   "source": [
    "output_notes"
   ]
  },
  {
   "cell_type": "markdown",
   "metadata": {},
   "source": [
    "## Playing the file"
   ]
  },
  {
   "cell_type": "code",
   "execution_count": 40,
   "metadata": {},
   "outputs": [
    {
     "data": {
      "text/plain": [
       "'sample.mid'"
      ]
     },
     "execution_count": 40,
     "metadata": {},
     "output_type": "execute_result"
    }
   ],
   "source": [
    "midi_stream = stream.Stream(output_notes)\n",
    "\n",
    "# To write the file on disk\n",
    "# type, filenam\n",
    "midi_stream.write('midi', fp='sample.mid')"
   ]
  },
  {
   "cell_type": "code",
   "execution_count": 41,
   "metadata": {},
   "outputs": [
    {
     "data": {
      "text/html": [
       "\n",
       "                <div id='midiPlayerDiv6033'></div>\n",
       "                <link rel=\"stylesheet\" href=\"//cuthbertLab.github.io/music21j/css/m21.css\"\n",
       "                    type=\"text/css\" />\n",
       "                <script>\n",
       "                require.config({\n",
       "                    paths: {'music21': '//cuthbertLab.github.io/music21j/src/music21'}\n",
       "                });\n",
       "                require(['music21'], function() {\n",
       "                               mp = new music21.miditools.MidiPlayer();\n",
       "                               mp.addPlayer('#midiPlayerDiv6033');\n",
       "                               mp.base64Load('data:audio/midi;base64,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');\n",
       "                        });\n",
       "                </script>"
      ],
      "text/plain": [
       "<IPython.core.display.HTML object>"
      ]
     },
     "metadata": {},
     "output_type": "display_data"
    }
   ],
   "source": [
    "midi_stream.show('midi')"
   ]
  },
  {
   "cell_type": "markdown",
   "metadata": {},
   "source": [
    "## Drawbacks\n",
    "- Model doesn't know how to start and end the music ( in terms of melody and all )\n",
    "- offset is fixed"
   ]
  },
  {
   "cell_type": "code",
   "execution_count": null,
   "metadata": {},
   "outputs": [],
   "source": []
  }
 ],
 "metadata": {
  "kernelspec": {
   "display_name": "Python 3",
   "language": "python",
   "name": "python3"
  },
  "language_info": {
   "codemirror_mode": {
    "name": "ipython",
    "version": 3
   },
   "file_extension": ".py",
   "mimetype": "text/x-python",
   "name": "python",
   "nbconvert_exporter": "python",
   "pygments_lexer": "ipython3",
   "version": "3.8.3"
  }
 },
 "nbformat": 4,
 "nbformat_minor": 4
}

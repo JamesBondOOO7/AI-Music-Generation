{
 "cells": [
  {
   "cell_type": "code",
   "execution_count": 1,
   "metadata": {},
   "outputs": [],
   "source": [
    "from keras.models import load_model"
   ]
  },
  {
   "cell_type": "code",
   "execution_count": 26,
   "metadata": {},
   "outputs": [],
   "source": [
    "model = load_model(\"./new_weights.hdf5\")"
   ]
  },
  {
   "cell_type": "markdown",
   "metadata": {},
   "source": [
    "## Predictions"
   ]
  },
  {
   "cell_type": "code",
   "execution_count": 3,
   "metadata": {},
   "outputs": [],
   "source": [
    "import pickle\n",
    "with open(\"notes\", \"rb\") as f:\n",
    "    notes = pickle.load(f)"
   ]
  },
  {
   "cell_type": "code",
   "execution_count": 4,
   "metadata": {},
   "outputs": [],
   "source": [
    "pitchnames = sorted(set(notes)) # CLASSES\n",
    "\n",
    "# MAPPING\n",
    "ele_to_int = dict( (ele, num) for num, ele in enumerate(pitchnames) )\n",
    "int_to_ele = dict( (num, ele) for num, ele in enumerate(pitchnames) )"
   ]
  },
  {
   "cell_type": "code",
   "execution_count": 6,
   "metadata": {},
   "outputs": [],
   "source": [
    "# The Training data\n",
    "sequence_length = 100\n",
    "network_input = []\n",
    "n_vocab = len(set(notes))\n",
    "for i in range(len(notes) - sequence_length):\n",
    "    \n",
    "    seq_in = notes[i : i + sequence_length]\n",
    "    network_input.append([ele_to_int[ch] for ch in seq_in])"
   ]
  },
  {
   "cell_type": "markdown",
   "metadata": {},
   "source": [
    "## How to generate music? \n",
    "1. Give any random training point from the training data to the model\n",
    "2. Discard the 1st element from the training point and append the output\n",
    "3. Repeat 1 and 2 till the required length of time"
   ]
  },
  {
   "cell_type": "code",
   "execution_count": 27,
   "metadata": {},
   "outputs": [],
   "source": [
    "import numpy as np\n",
    "\n",
    "# Random input\n",
    "start = np.random.randint(len(network_input) - 1)\n",
    "\n",
    "# Initial Pattern\n",
    "pattern = network_input[start]\n",
    "prediction_output = []\n",
    "\n",
    "# Let's do it for 200 elements\n",
    "for note_index in range(200):\n",
    "    \n",
    "    # (Batch_size X length of the pattern X 1)\n",
    "    prediction_input = np.reshape(pattern, [1, len(pattern), 1])\n",
    "    \n",
    "    # Normalization\n",
    "    prediction_input = prediction_input/float(n_vocab)\n",
    "    \n",
    "    # Prediction : Prob for all classes\n",
    "    prediction = model.predict(prediction_input, verbose=0)\n",
    "    # Class number\n",
    "    idx = np.argmax(prediction)\n",
    "    \n",
    "    # Integer to Note\n",
    "    result = int_to_ele[idx]\n",
    "    prediction_output.append(result)\n",
    "    \n",
    "    # changing the Input Sequence\n",
    "    pattern.append(idx)\n",
    "    pattern = pattern[1:]"
   ]
  },
  {
   "cell_type": "code",
   "execution_count": 28,
   "metadata": {},
   "outputs": [
    {
     "name": "stdout",
     "output_type": "stream",
     "text": [
      "['7+9+0', '7+9+0', 'F1', 'F#7', '9+11+3', '9+11+2+5', 'C#5', 'C#4', 'B4', 'B3', '9+11+3', '9+11+2+5', '9+11', 'C#4', '7+9', '7+9', '3+7+9', '3+7+9', '11+0', '11+0', '1+2', '1+2', '2+7', '2+7', '3+7+9', '1+4+6+9', '6', '6', 'E-4', 'A0', 'D4', 'D5', '9+10+2+4', 'C6', '9+11+0+4', 'D5', '4+8', 'B-5', 'F#6', 'A4', 'F#7', '11+4', 'D5', 'E-4', '9+10+2+4', '9+11+0+4', 'D5', '4+8', 'C6', 'D5', 'F#6', '8+9+2', '11+4', '11+4', '9+10+2+4', '3+7+9', '4+8', '9+11+0+4', 'E-4', 'F#6', 'D5', '11+4', 'C6', '1+4+6+9', '9+10+2+4', '4+8', 'F#6', '11+4', '9+10+2+4', '4+8', 'F#6', '11+4', '9+10+2+4', '4+8', 'F#6', '11+4', 'D3', '9+11', 'C#3', 'F#2', '9+11', '9+1+4', 'E-2', '4+7+10', 'D2', 'E-2', '11+2+4', 'D3', 'E-2', 'E-1', 'C#4', 'B-3', 'D3', 'D2', 'D3', '9+11', '11+2+4', 'F#2', 'D3', '9+11', 'C#3', 'F#2', '9+11', '9+1+4', 'E-2', '4+7+10', 'B-2', 'E-2', '11+2+4+6', 'D3', 'E-2', 'C#3', 'C3', '11+2+4', 'A1', '9+11', '9+10+2+4', '9+10+2+4', '3+7+9', '9+10+2+4', 'E-1', '9+10+2+4', '9+10+2+4', '9+11', '9+10+2+4', 'A3', '9+10+2+4', '9+11', '9+11', 'A1', '8+9+11+1', 'B3', '9+10+2+4', '9+10+2+4', 'C#4', '9+10+2+4', '9+10+2+4', 'C#4', '8+11+2', '9+10+2+3', 'D1', 'D2', '9+10+2+4', 'C#4', '9+10+2+4', 'D2', 'F#6', 'F#7', '9+10+2+5', 'D7', '9+11', 'D7', '9+10+2+5', '9+10+2+4', '9+10+2+3', 'D3', '9+10+2+4', '9+11', '4+8', '9+10+2+4', 'C#4', '8+11+2', 'A2', 'D3', '8+11+2', 'A2', '9+10+2+4', 'D2', '9+11', '9+10+2+5', '9+1+4', 'A3', '9+10+2+4', '9+10+2+5', '9+10+2+4', '9+11', '9+11', '9+11', '9+10+2+4', '3+7+9', '9+10+2+3', '9+11', '9+10+2+4', 'A2', '8+11+2', '9+10+2+4', '9+10+2+4', '8+11+2', '8+9+11+1', '8+11+2', '8+11+2', '8+9+11+1', '8+11+2', '8+9+11+1', '9+10+2+4', '8+9+11+1', '7+10+0+3', '7+10+0+3', 'D1', 'D1']\n"
     ]
    }
   ],
   "source": [
    "print(prediction_output)"
   ]
  },
  {
   "cell_type": "markdown",
   "metadata": {},
   "source": [
    "# Create Midi file"
   ]
  },
  {
   "cell_type": "code",
   "execution_count": 29,
   "metadata": {},
   "outputs": [],
   "source": [
    "from music21 import note, chord, instrument, stream"
   ]
  },
  {
   "cell_type": "code",
   "execution_count": 34,
   "metadata": {},
   "outputs": [
    {
     "name": "stdout",
     "output_type": "stream",
     "text": [
      "F1\n"
     ]
    },
    {
     "ename": "PitchException",
     "evalue": "Cannot make a step out of '+'",
     "output_type": "error",
     "traceback": [
      "\u001b[1;31m---------------------------------------------------------------------------\u001b[0m",
      "\u001b[1;31mPitchException\u001b[0m                            Traceback (most recent call last)",
      "\u001b[1;32m<ipython-input-34-b65239e085d0>\u001b[0m in \u001b[0;36m<module>\u001b[1;34m\u001b[0m\n\u001b[0;32m      1\u001b[0m \u001b[1;31m# Note Object\u001b[0m\u001b[1;33m\u001b[0m\u001b[1;33m\u001b[0m\u001b[1;33m\u001b[0m\u001b[0m\n\u001b[0;32m      2\u001b[0m \u001b[0mprint\u001b[0m\u001b[1;33m(\u001b[0m\u001b[0mprediction_output\u001b[0m\u001b[1;33m[\u001b[0m\u001b[1;36m2\u001b[0m\u001b[1;33m]\u001b[0m\u001b[1;33m)\u001b[0m\u001b[1;33m\u001b[0m\u001b[1;33m\u001b[0m\u001b[0m\n\u001b[1;32m----> 3\u001b[1;33m \u001b[0msample_note\u001b[0m \u001b[1;33m=\u001b[0m \u001b[0mnote\u001b[0m\u001b[1;33m.\u001b[0m\u001b[0mNote\u001b[0m\u001b[1;33m(\u001b[0m\u001b[0mprediction_output\u001b[0m\u001b[1;33m[\u001b[0m\u001b[1;36m4\u001b[0m\u001b[1;33m]\u001b[0m\u001b[1;33m)\u001b[0m\u001b[1;33m\u001b[0m\u001b[1;33m\u001b[0m\u001b[0m\n\u001b[0m\u001b[0;32m      4\u001b[0m \u001b[0msample_note\u001b[0m\u001b[1;33m.\u001b[0m\u001b[0moffset\u001b[0m \u001b[1;33m=\u001b[0m \u001b[1;36m0\u001b[0m\u001b[1;33m\u001b[0m\u001b[1;33m\u001b[0m\u001b[0m\n\u001b[0;32m      5\u001b[0m \u001b[0msample_note\u001b[0m\u001b[1;33m.\u001b[0m\u001b[0minstrument\u001b[0m \u001b[1;33m=\u001b[0m \u001b[0minstrument\u001b[0m\u001b[1;33m.\u001b[0m\u001b[0mPiano\u001b[0m\u001b[1;33m(\u001b[0m\u001b[1;33m)\u001b[0m\u001b[1;33m\u001b[0m\u001b[1;33m\u001b[0m\u001b[0m\n",
      "\u001b[1;32m~\\anaconda3\\lib\\site-packages\\music21\\note.py\u001b[0m in \u001b[0;36m__init__\u001b[1;34m(self, pitchName, **keywords)\u001b[0m\n\u001b[0;32m   1078\u001b[0m                 \u001b[0mself\u001b[0m\u001b[1;33m.\u001b[0m\u001b[0mpitch\u001b[0m \u001b[1;33m=\u001b[0m \u001b[0mpitchName\u001b[0m\u001b[1;33m\u001b[0m\u001b[1;33m\u001b[0m\u001b[0m\n\u001b[0;32m   1079\u001b[0m             \u001b[1;32melse\u001b[0m\u001b[1;33m:\u001b[0m  \u001b[1;31m# assume first argument is pitch\u001b[0m\u001b[1;33m\u001b[0m\u001b[1;33m\u001b[0m\u001b[0m\n\u001b[1;32m-> 1080\u001b[1;33m                 \u001b[0mself\u001b[0m\u001b[1;33m.\u001b[0m\u001b[0mpitch\u001b[0m \u001b[1;33m=\u001b[0m \u001b[0mpitch\u001b[0m\u001b[1;33m.\u001b[0m\u001b[0mPitch\u001b[0m\u001b[1;33m(\u001b[0m\u001b[0mpitchName\u001b[0m\u001b[1;33m,\u001b[0m \u001b[1;33m**\u001b[0m\u001b[0mkeywords\u001b[0m\u001b[1;33m)\u001b[0m\u001b[1;33m\u001b[0m\u001b[1;33m\u001b[0m\u001b[0m\n\u001b[0m\u001b[0;32m   1081\u001b[0m         \u001b[1;32melse\u001b[0m\u001b[1;33m:\u001b[0m  \u001b[1;31m# supply a default pitch\u001b[0m\u001b[1;33m\u001b[0m\u001b[1;33m\u001b[0m\u001b[0m\n\u001b[0;32m   1082\u001b[0m             \u001b[0mname\u001b[0m \u001b[1;33m=\u001b[0m \u001b[1;34m'C4'\u001b[0m\u001b[1;33m\u001b[0m\u001b[1;33m\u001b[0m\u001b[0m\n",
      "\u001b[1;32m~\\anaconda3\\lib\\site-packages\\music21\\pitch.py\u001b[0m in \u001b[0;36m__init__\u001b[1;34m(self, name, **keywords)\u001b[0m\n\u001b[0;32m   1772\u001b[0m         \u001b[1;32mif\u001b[0m \u001b[0mname\u001b[0m \u001b[1;32mis\u001b[0m \u001b[1;32mnot\u001b[0m \u001b[1;32mNone\u001b[0m\u001b[1;33m:\u001b[0m\u001b[1;33m\u001b[0m\u001b[1;33m\u001b[0m\u001b[0m\n\u001b[0;32m   1773\u001b[0m             \u001b[1;32mif\u001b[0m \u001b[0misinstance\u001b[0m\u001b[1;33m(\u001b[0m\u001b[0mname\u001b[0m\u001b[1;33m,\u001b[0m \u001b[0mstr\u001b[0m\u001b[1;33m)\u001b[0m\u001b[1;33m:\u001b[0m\u001b[1;33m\u001b[0m\u001b[1;33m\u001b[0m\u001b[0m\n\u001b[1;32m-> 1774\u001b[1;33m                 \u001b[0mself\u001b[0m\u001b[1;33m.\u001b[0m\u001b[0mname\u001b[0m \u001b[1;33m=\u001b[0m \u001b[0mname\u001b[0m  \u001b[1;31m# set based on string\u001b[0m\u001b[1;33m\u001b[0m\u001b[1;33m\u001b[0m\u001b[0m\n\u001b[0m\u001b[0;32m   1775\u001b[0m             \u001b[1;32melse\u001b[0m\u001b[1;33m:\u001b[0m  \u001b[1;31m# is a number\u001b[0m\u001b[1;33m\u001b[0m\u001b[1;33m\u001b[0m\u001b[0m\n\u001b[0;32m   1776\u001b[0m                 \u001b[1;32mif\u001b[0m \u001b[0mname\u001b[0m \u001b[1;33m<\u001b[0m \u001b[1;36m12\u001b[0m\u001b[1;33m:\u001b[0m  \u001b[1;31m# is a pitchClass\u001b[0m\u001b[1;33m\u001b[0m\u001b[1;33m\u001b[0m\u001b[0m\n",
      "\u001b[1;32m~\\anaconda3\\lib\\site-packages\\music21\\pitch.py\u001b[0m in \u001b[0;36mname\u001b[1;34m(self, usrStr)\u001b[0m\n\u001b[0;32m   2599\u001b[0m         \u001b[1;31m# assume everything following pitch is accidental specification\u001b[0m\u001b[1;33m\u001b[0m\u001b[1;33m\u001b[0m\u001b[1;33m\u001b[0m\u001b[0m\n\u001b[0;32m   2600\u001b[0m         \u001b[1;32melif\u001b[0m \u001b[0mlen\u001b[0m\u001b[1;33m(\u001b[0m\u001b[0musrStr\u001b[0m\u001b[1;33m)\u001b[0m \u001b[1;33m>\u001b[0m \u001b[1;36m1\u001b[0m\u001b[1;33m:\u001b[0m\u001b[1;33m\u001b[0m\u001b[1;33m\u001b[0m\u001b[0m\n\u001b[1;32m-> 2601\u001b[1;33m             \u001b[0mself\u001b[0m\u001b[1;33m.\u001b[0m\u001b[0mstep\u001b[0m \u001b[1;33m=\u001b[0m \u001b[0musrStr\u001b[0m\u001b[1;33m[\u001b[0m\u001b[1;36m0\u001b[0m\u001b[1;33m]\u001b[0m\u001b[1;33m\u001b[0m\u001b[1;33m\u001b[0m\u001b[0m\n\u001b[0m\u001b[0;32m   2602\u001b[0m             \u001b[0mself\u001b[0m\u001b[1;33m.\u001b[0m\u001b[0maccidental\u001b[0m \u001b[1;33m=\u001b[0m \u001b[0mAccidental\u001b[0m\u001b[1;33m(\u001b[0m\u001b[0musrStr\u001b[0m\u001b[1;33m[\u001b[0m\u001b[1;36m1\u001b[0m\u001b[1;33m:\u001b[0m\u001b[1;33m]\u001b[0m\u001b[1;33m)\u001b[0m\u001b[1;33m\u001b[0m\u001b[1;33m\u001b[0m\u001b[0m\n\u001b[0;32m   2603\u001b[0m         \u001b[1;32melse\u001b[0m\u001b[1;33m:\u001b[0m\u001b[1;33m\u001b[0m\u001b[1;33m\u001b[0m\u001b[0m\n",
      "\u001b[1;32m~\\anaconda3\\lib\\site-packages\\music21\\pitch.py\u001b[0m in \u001b[0;36mstep\u001b[1;34m(self, usrStr)\u001b[0m\n\u001b[0;32m   2799\u001b[0m             \u001b[0mself\u001b[0m\u001b[1;33m.\u001b[0m\u001b[0mspellingIsInferred\u001b[0m \u001b[1;33m=\u001b[0m \u001b[1;32mFalse\u001b[0m\u001b[1;33m\u001b[0m\u001b[1;33m\u001b[0m\u001b[0m\n\u001b[0;32m   2800\u001b[0m         \u001b[1;32melse\u001b[0m\u001b[1;33m:\u001b[0m\u001b[1;33m\u001b[0m\u001b[1;33m\u001b[0m\u001b[0m\n\u001b[1;32m-> 2801\u001b[1;33m             \u001b[1;32mraise\u001b[0m \u001b[0mPitchException\u001b[0m\u001b[1;33m(\u001b[0m\u001b[1;34mf'Cannot make a step out of {usrStr!r}'\u001b[0m\u001b[1;33m)\u001b[0m\u001b[1;33m\u001b[0m\u001b[1;33m\u001b[0m\u001b[0m\n\u001b[0m\u001b[0;32m   2802\u001b[0m \u001b[1;33m\u001b[0m\u001b[0m\n\u001b[0;32m   2803\u001b[0m     \u001b[1;33m@\u001b[0m\u001b[0mproperty\u001b[0m\u001b[1;33m\u001b[0m\u001b[1;33m\u001b[0m\u001b[0m\n",
      "\u001b[1;31mPitchException\u001b[0m: Cannot make a step out of '+'"
     ]
    }
   ],
   "source": [
    "# Note Object\n",
    "print(prediction_output[2])\n",
    "sample_note = note.Note(prediction_output[4])\n",
    "sample_note.offset = 0\n",
    "sample_note.instrument = instrument.Piano()"
   ]
  },
  {
   "cell_type": "code",
   "execution_count": 31,
   "metadata": {},
   "outputs": [
    {
     "data": {
      "text/plain": [
       "<music21.note.Note D>"
      ]
     },
     "execution_count": 31,
     "metadata": {},
     "output_type": "execute_result"
    }
   ],
   "source": [
    "sample_note"
   ]
  },
  {
   "cell_type": "code",
   "execution_count": 13,
   "metadata": {},
   "outputs": [],
   "source": [
    "offset = 0\n",
    "output_notes = []\n",
    "\n",
    "for pattern in prediction_output:\n",
    "    \n",
    "    # if the pattern is a chord\n",
    "    if ('+' in pattern) or pattern.isdigit():\n",
    "        notes_in_chord = pattern.split('+')\n",
    "        # Notes inside a chord\n",
    "        temp_notes = []\n",
    "        for curr_note in notes_in_chord:\n",
    "            \n",
    "            # Create a Note object\n",
    "            new_note = note.Note(int(curr_note))\n",
    "            new_note.storedInstrument = instrument.Piano()\n",
    "            temp_notes.append(new_note)\n",
    "        \n",
    "        # Creating the cord Object\n",
    "        new_chord = chord.Chord(temp_notes)\n",
    "        new_chord.offset = offset\n",
    "        output_notes.append(new_chord)\n",
    "        \n",
    "        \n",
    "    # if the pattern is a note\n",
    "    else:\n",
    "        new_note = note.Note(pattern)\n",
    "        new_note.offset = offset\n",
    "        new_note.instrument = instrument.Piano()\n",
    "        output_notes.append(new_note)\n",
    "        \n",
    "    offset += 0.5 # fixed"
   ]
  },
  {
   "cell_type": "code",
   "execution_count": 14,
   "metadata": {},
   "outputs": [
    {
     "data": {
      "text/plain": [
       "[<music21.note.Note D>,\n",
       " <music21.note.Note D>,\n",
       " <music21.note.Note D>,\n",
       " <music21.note.Note D>,\n",
       " <music21.note.Note D>,\n",
       " <music21.note.Note D>,\n",
       " <music21.note.Note D>,\n",
       " <music21.note.Note D>,\n",
       " <music21.note.Note D>,\n",
       " <music21.note.Note D>,\n",
       " <music21.note.Note D>,\n",
       " <music21.note.Note D>,\n",
       " <music21.note.Note D>,\n",
       " <music21.note.Note D>,\n",
       " <music21.note.Note D>,\n",
       " <music21.note.Note D>,\n",
       " <music21.note.Note D>,\n",
       " <music21.note.Note D>,\n",
       " <music21.note.Note D>,\n",
       " <music21.note.Note D>,\n",
       " <music21.note.Note D>,\n",
       " <music21.note.Note D>,\n",
       " <music21.note.Note D>,\n",
       " <music21.note.Note D>,\n",
       " <music21.note.Note D>,\n",
       " <music21.note.Note D>,\n",
       " <music21.note.Note D>,\n",
       " <music21.note.Note D>,\n",
       " <music21.note.Note D>,\n",
       " <music21.note.Note D>,\n",
       " <music21.note.Note D>,\n",
       " <music21.note.Note D>,\n",
       " <music21.note.Note D>,\n",
       " <music21.note.Note D>,\n",
       " <music21.note.Note D>,\n",
       " <music21.note.Note D>,\n",
       " <music21.note.Note D>,\n",
       " <music21.note.Note D>,\n",
       " <music21.note.Note D>,\n",
       " <music21.note.Note D>,\n",
       " <music21.note.Note D>,\n",
       " <music21.note.Note D>,\n",
       " <music21.note.Note D>,\n",
       " <music21.note.Note D>,\n",
       " <music21.note.Note D>,\n",
       " <music21.note.Note D>,\n",
       " <music21.note.Note D>,\n",
       " <music21.note.Note D>,\n",
       " <music21.note.Note D>,\n",
       " <music21.note.Note D>,\n",
       " <music21.note.Note D>,\n",
       " <music21.note.Note D>,\n",
       " <music21.note.Note D>,\n",
       " <music21.note.Note D>,\n",
       " <music21.note.Note D>,\n",
       " <music21.note.Note D>,\n",
       " <music21.note.Note D>,\n",
       " <music21.note.Note D>,\n",
       " <music21.note.Note D>,\n",
       " <music21.note.Note D>,\n",
       " <music21.note.Note D>,\n",
       " <music21.note.Note D>,\n",
       " <music21.note.Note D>,\n",
       " <music21.note.Note D>,\n",
       " <music21.note.Note D>,\n",
       " <music21.note.Note D>,\n",
       " <music21.note.Note D>,\n",
       " <music21.note.Note D>,\n",
       " <music21.note.Note D>,\n",
       " <music21.note.Note D>,\n",
       " <music21.note.Note D>,\n",
       " <music21.note.Note D>,\n",
       " <music21.note.Note D>,\n",
       " <music21.note.Note D>,\n",
       " <music21.note.Note D>,\n",
       " <music21.note.Note D>,\n",
       " <music21.note.Note D>,\n",
       " <music21.note.Note D>,\n",
       " <music21.note.Note D>,\n",
       " <music21.note.Note D>,\n",
       " <music21.note.Note D>,\n",
       " <music21.note.Note D>,\n",
       " <music21.note.Note D>,\n",
       " <music21.note.Note D>,\n",
       " <music21.note.Note D>,\n",
       " <music21.note.Note D>,\n",
       " <music21.note.Note D>,\n",
       " <music21.note.Note D>,\n",
       " <music21.note.Note D>,\n",
       " <music21.note.Note D>,\n",
       " <music21.note.Note D>,\n",
       " <music21.note.Note D>,\n",
       " <music21.note.Note D>,\n",
       " <music21.note.Note D>,\n",
       " <music21.note.Note D>,\n",
       " <music21.note.Note D>,\n",
       " <music21.note.Note D>,\n",
       " <music21.note.Note D>,\n",
       " <music21.note.Note D>,\n",
       " <music21.note.Note D>,\n",
       " <music21.note.Note D>,\n",
       " <music21.note.Note D>,\n",
       " <music21.note.Note D>,\n",
       " <music21.note.Note D>,\n",
       " <music21.note.Note D>,\n",
       " <music21.note.Note D>,\n",
       " <music21.note.Note D>,\n",
       " <music21.note.Note D>,\n",
       " <music21.note.Note D>,\n",
       " <music21.note.Note D>,\n",
       " <music21.note.Note D>,\n",
       " <music21.note.Note D>,\n",
       " <music21.note.Note D>,\n",
       " <music21.note.Note D>,\n",
       " <music21.note.Note D>,\n",
       " <music21.note.Note D>,\n",
       " <music21.note.Note D>,\n",
       " <music21.note.Note D>,\n",
       " <music21.note.Note D>,\n",
       " <music21.note.Note D>,\n",
       " <music21.note.Note D>,\n",
       " <music21.note.Note D>,\n",
       " <music21.note.Note D>,\n",
       " <music21.note.Note D>,\n",
       " <music21.note.Note D>,\n",
       " <music21.note.Note D>,\n",
       " <music21.note.Note D>,\n",
       " <music21.note.Note D>,\n",
       " <music21.note.Note D>,\n",
       " <music21.note.Note D>,\n",
       " <music21.note.Note D>,\n",
       " <music21.note.Note D>,\n",
       " <music21.note.Note D>,\n",
       " <music21.note.Note D>,\n",
       " <music21.note.Note D>,\n",
       " <music21.note.Note D>,\n",
       " <music21.note.Note D>,\n",
       " <music21.note.Note D>,\n",
       " <music21.note.Note D>,\n",
       " <music21.note.Note D>,\n",
       " <music21.note.Note D>,\n",
       " <music21.note.Note D>,\n",
       " <music21.note.Note D>,\n",
       " <music21.note.Note D>,\n",
       " <music21.note.Note D>,\n",
       " <music21.note.Note D>,\n",
       " <music21.note.Note D>,\n",
       " <music21.note.Note D>,\n",
       " <music21.note.Note D>,\n",
       " <music21.note.Note D>,\n",
       " <music21.note.Note D>,\n",
       " <music21.note.Note D>,\n",
       " <music21.note.Note D>,\n",
       " <music21.note.Note D>,\n",
       " <music21.note.Note D>,\n",
       " <music21.note.Note D>,\n",
       " <music21.note.Note D>,\n",
       " <music21.note.Note D>,\n",
       " <music21.note.Note D>,\n",
       " <music21.note.Note D>,\n",
       " <music21.note.Note D>,\n",
       " <music21.note.Note D>,\n",
       " <music21.note.Note D>,\n",
       " <music21.note.Note D>,\n",
       " <music21.note.Note D>,\n",
       " <music21.note.Note D>,\n",
       " <music21.note.Note D>,\n",
       " <music21.note.Note D>,\n",
       " <music21.note.Note D>,\n",
       " <music21.note.Note D>,\n",
       " <music21.note.Note D>,\n",
       " <music21.note.Note D>,\n",
       " <music21.note.Note D>,\n",
       " <music21.note.Note D>,\n",
       " <music21.note.Note D>,\n",
       " <music21.note.Note D>,\n",
       " <music21.note.Note D>,\n",
       " <music21.note.Note D>,\n",
       " <music21.note.Note D>,\n",
       " <music21.note.Note D>,\n",
       " <music21.note.Note D>,\n",
       " <music21.note.Note D>,\n",
       " <music21.note.Note D>,\n",
       " <music21.note.Note D>,\n",
       " <music21.note.Note D>,\n",
       " <music21.note.Note D>,\n",
       " <music21.note.Note D>,\n",
       " <music21.note.Note D>,\n",
       " <music21.note.Note D>,\n",
       " <music21.note.Note D>,\n",
       " <music21.note.Note D>,\n",
       " <music21.note.Note D>,\n",
       " <music21.note.Note D>,\n",
       " <music21.note.Note D>,\n",
       " <music21.note.Note D>,\n",
       " <music21.note.Note D>,\n",
       " <music21.note.Note D>,\n",
       " <music21.note.Note D>,\n",
       " <music21.note.Note D>,\n",
       " <music21.note.Note D>]"
      ]
     },
     "execution_count": 14,
     "metadata": {},
     "output_type": "execute_result"
    }
   ],
   "source": [
    "output_notes"
   ]
  },
  {
   "cell_type": "markdown",
   "metadata": {},
   "source": [
    "## Playing the file"
   ]
  },
  {
   "cell_type": "code",
   "execution_count": 16,
   "metadata": {},
   "outputs": [
    {
     "data": {
      "text/plain": [
       "'sample.mid'"
      ]
     },
     "execution_count": 16,
     "metadata": {},
     "output_type": "execute_result"
    }
   ],
   "source": [
    "midi_stream = stream.Stream(output_notes)\n",
    "\n",
    "# To write the file on disk\n",
    "# type, filenam\n",
    "midi_stream.write('midi', fp='sample.mid')"
   ]
  },
  {
   "cell_type": "code",
   "execution_count": 17,
   "metadata": {},
   "outputs": [
    {
     "data": {
      "text/html": [
       "\n",
       "                <div id='midiPlayerDiv3016'></div>\n",
       "                <link rel=\"stylesheet\" href=\"//cuthbertLab.github.io/music21j/css/m21.css\"\n",
       "                    type=\"text/css\" />\n",
       "                <script>\n",
       "                require.config({\n",
       "                    paths: {'music21': '//cuthbertLab.github.io/music21j/src/music21'}\n",
       "                });\n",
       "                require(['music21'], function() {\n",
       "                               mp = new music21.miditools.MidiPlayer();\n",
       "                               mp.addPlayer('#midiPlayerDiv3016');\n",
       "                               mp.base64Load('data:audio/midi;base64,TVRoZAAAAAYAAQACBABNVHJrAAAAFAD/UQMHoSAA/1gEBAIYCIgA/y8ATVRyawAABxcA/wMAAOAAQIgAkDJahACQMlqEAIAyAACQMlqEAIAyAACQMlqEAIAyAACQMlqEAIAyAACQMlqEAIAyAACQMlqEAIAyAACQMlqEAIAyAACQMlqEAIAyAACQMlqEAIAyAACQMlqEAIAyAACQMlqEAIAyAACQMlqEAIAyAACQMlqEAIAyAACQMlqEAIAyAACQMlqEAIAyAACQMlqEAIAyAACQMlqEAIAyAACQMlqEAIAyAACQMlqEAIAyAACQMlqEAIAyAACQMlqEAIAyAACQMlqEAIAyAACQMlqEAIAyAACQMlqEAIAyAACQMlqEAIAyAACQMlqEAIAyAACQMlqEAIAyAACQMlqEAIAyAACQMlqEAIAyAACQMlqEAIAyAACQMlqEAIAyAACQMlqEAIAyAACQMlqEAIAyAACQMlqEAIAyAACQMlqEAIAyAACQMlqEAIAyAACQMlqEAIAyAACQMlqEAIAyAACQMlqEAIAyAACQMlqEAIAyAACQMlqEAIAyAACQMlqEAIAyAACQMlqEAIAyAACQMlqEAIAyAACQMlqEAIAyAACQMlqEAIAyAACQMlqEAIAyAACQMlqEAIAyAACQMlqEAIAyAACQMlqEAIAyAACQMlqEAIAyAACQMlqEAIAyAACQMlqEAIAyAACQMlqEAIAyAACQMlqEAIAyAACQMlqEAIAyAACQMlqEAIAyAACQMlqEAIAyAACQMlqEAIAyAACQMlqEAIAyAACQMlqEAIAyAACQMlqEAIAyAACQMlqEAIAyAACQMlqEAIAyAACQMlqEAIAyAACQMlqEAIAyAACQMlqEAIAyAACQMlqEAIAyAACQMlqEAIAyAACQMlqEAIAyAACQMlqEAIAyAACQMlqEAIAyAACQMlqEAIAyAACQMlqEAIAyAACQMlqEAIAyAACQMlqEAIAyAACQMlqEAIAyAACQMlqEAIAyAACQMlqEAIAyAACQMlqEAIAyAACQMlqEAIAyAACQMlqEAIAyAACQMlqEAIAyAACQMlqEAIAyAACQMlqEAIAyAACQMlqEAIAyAACQMlqEAIAyAACQMlqEAIAyAACQMlqEAIAyAACQMlqEAIAyAACQMlqEAIAyAACQMlqEAIAyAACQMlqEAIAyAACQMlqEAIAyAACQMlqEAIAyAACQMlqEAIAyAACQMlqEAIAyAACQMlqEAIAyAACQMlqEAIAyAACQMlqEAIAyAACQMlqEAIAyAACQMlqEAIAyAACQMlqEAIAyAACQMlqEAIAyAACQMlqEAIAyAACQMlqEAIAyAACQMlqEAIAyAACQMlqEAIAyAACQMlqEAIAyAACQMlqEAIAyAACQMlqEAIAyAACQMlqEAIAyAACQMlqEAIAyAACQMlqEAIAyAACQMlqEAIAyAACQMlqEAIAyAACQMlqEAIAyAACQMlqEAIAyAACQMlqEAIAyAACQMlqEAIAyAACQMlqEAIAyAACQMlqEAIAyAACQMlqEAIAyAACQMlqEAIAyAACQMlqEAIAyAACQMlqEAIAyAACQMlqEAIAyAACQMlqEAIAyAACQMlqEAIAyAACQMlqEAIAyAACQMlqEAIAyAACQMlqEAIAyAACQMlqEAIAyAACQMlqEAIAyAACQMlqEAIAyAACQMlqEAIAyAACQMlqEAIAyAACQMlqEAIAyAACQMlqEAIAyAACQMlqEAIAyAACQMlqEAIAyAACQMlqEAIAyAACQMlqEAIAyAACQMlqEAIAyAACQMlqEAIAyAACQMlqEAIAyAACQMlqEAIAyAACQMlqEAIAyAACQMlqEAIAyAACQMlqEAIAyAACQMlqEAIAyAACQMlqEAIAyAACQMlqEAIAyAACQMlqEAIAyAACQMlqEAIAyAACQMlqEAIAyAACQMlqEAIAyAACQMlqEAIAyAACQMlqEAIAyAACQMlqEAIAyAACQMlqEAIAyAACQMlqEAIAyAACQMlqEAIAyAACQMlqEAIAyAACQMlqEAIAyAACQMlqEAIAyAACQMlqEAIAyAACQMlqEAIAyAACQMlqEAIAyAACQMlqEAIAyAACQMlqEAIAyAACQMlqEAIAyAACQMlqEAIAyAACQMlqEAIAyAACQMlqEAIAyAACQMlqEAIAyAACQMlqEAIAyAACQMlqEAIAyAACQMlqEAIAyAACQMlqEAIAyAACQMlqEAIAyAACQMlqEAIAyAACQMlqEAIAyAACQMlqEAIAyAACQMlqEAIAyAACQMlqEAIAyAACQMlqEAIAyAACQMlqEAIAyAACQMlqEAIAyAACQMlqEAIAyAACQMlqEAIAyAACQMlqEAIAyAACQMlqEAIAyAACQMlqEAIAyAACQMlqEAIAyAACQMlqEAIAyAACQMlqEAIAyAACQMlqEAIAyAACQMlqEAIAyAIQAgDIAiAD/LwA=');\n",
       "                        });\n",
       "                </script>"
      ],
      "text/plain": [
       "<IPython.core.display.HTML object>"
      ]
     },
     "metadata": {},
     "output_type": "display_data"
    }
   ],
   "source": [
    "midi_stream.show('midi')"
   ]
  },
  {
   "cell_type": "markdown",
   "metadata": {},
   "source": [
    "## Drawbacks\n",
    "- Model doesn't know how to start and end the music ( in terms of melody and all )\n",
    "- offset is fixed"
   ]
  },
  {
   "cell_type": "code",
   "execution_count": null,
   "metadata": {},
   "outputs": [],
   "source": []
  }
 ],
 "metadata": {
  "kernelspec": {
   "display_name": "Python 3",
   "language": "python",
   "name": "python3"
  },
  "language_info": {
   "codemirror_mode": {
    "name": "ipython",
    "version": 3
   },
   "file_extension": ".py",
   "mimetype": "text/x-python",
   "name": "python",
   "nbconvert_exporter": "python",
   "pygments_lexer": "ipython3",
   "version": "3.8.3"
  }
 },
 "nbformat": 4,
 "nbformat_minor": 4
}
